{
 "cells": [
  {
   "cell_type": "code",
   "execution_count": 1,
   "id": "052da037-01bb-420a-955b-0b294b29d216",
   "metadata": {},
   "outputs": [],
   "source": [
    "import pandas as pd\n",
    "import numpy as np\n",
    "import nltk\n",
    "import string\n",
    "import re\n",
    "import ast\n",
    "import sklearn\n",
    "from collections import Counter\n",
    "from tqdm.notebook import trange, tqdm\n",
    "from imblearn.over_sampling import SMOTE"
   ]
  },
  {
   "cell_type": "code",
   "execution_count": 2,
   "id": "b8348645-3725-40ad-baf9-3bd0429393a0",
   "metadata": {},
   "outputs": [],
   "source": [
    "fulldf = pd.read_csv('mobil_listrik.csv')"
   ]
  },
  {
   "cell_type": "code",
   "execution_count": 3,
   "id": "0c3114bb-973d-43f4-8997-c650b56073e6",
   "metadata": {},
   "outputs": [
    {
     "data": {
      "text/html": [
       "<div>\n",
       "<style scoped>\n",
       "    .dataframe tbody tr th:only-of-type {\n",
       "        vertical-align: middle;\n",
       "    }\n",
       "\n",
       "    .dataframe tbody tr th {\n",
       "        vertical-align: top;\n",
       "    }\n",
       "\n",
       "    .dataframe thead th {\n",
       "        text-align: right;\n",
       "    }\n",
       "</style>\n",
       "<table border=\"1\" class=\"dataframe\">\n",
       "  <thead>\n",
       "    <tr style=\"text-align: right;\">\n",
       "      <th></th>\n",
       "      <th>text_cleaning;sentimen</th>\n",
       "    </tr>\n",
       "  </thead>\n",
       "  <tbody>\n",
       "    <tr>\n",
       "      <th>0</th>\n",
       "      <td>saran sih;netral</td>\n",
       "    </tr>\n",
       "    <tr>\n",
       "      <th>1</th>\n",
       "      <td>problemnya subsidi kualitas diturunin harga di...</td>\n",
       "    </tr>\n",
       "    <tr>\n",
       "      <th>2</th>\n",
       "      <td>sebaiknya kualitasnya dikembangkan dulu biar s...</td>\n",
       "    </tr>\n",
       "    <tr>\n",
       "      <th>3</th>\n",
       "      <td>model jelek kwalitas buruk harga mahal croot;n...</td>\n",
       "    </tr>\n",
       "    <tr>\n",
       "      <th>4</th>\n",
       "      <td>syarat yg ngaco ;negatif</td>\n",
       "    </tr>\n",
       "  </tbody>\n",
       "</table>\n",
       "</div>"
      ],
      "text/plain": [
       "                              text_cleaning;sentimen\n",
       "0                                   saran sih;netral\n",
       "1  problemnya subsidi kualitas diturunin harga di...\n",
       "2  sebaiknya kualitasnya dikembangkan dulu biar s...\n",
       "3  model jelek kwalitas buruk harga mahal croot;n...\n",
       "4                           syarat yg ngaco ;negatif"
      ]
     },
     "execution_count": 3,
     "metadata": {},
     "output_type": "execute_result"
    }
   ],
   "source": [
    "fulldf.head ()"
   ]
  },
  {
   "cell_type": "code",
   "execution_count": 4,
   "id": "7406771a-d9ec-418a-82cf-26f0707efaef",
   "metadata": {},
   "outputs": [
    {
     "name": "stdout",
     "output_type": "stream",
     "text": [
      "<class 'pandas.core.frame.DataFrame'>\n",
      "RangeIndex: 1517 entries, 0 to 1516\n",
      "Data columns (total 1 columns):\n",
      " #   Column                  Non-Null Count  Dtype \n",
      "---  ------                  --------------  ----- \n",
      " 0   text_cleaning;sentimen  1517 non-null   object\n",
      "dtypes: object(1)\n",
      "memory usage: 12.0+ KB\n"
     ]
    }
   ],
   "source": [
    "fulldf.info()"
   ]
  },
  {
   "cell_type": "code",
   "execution_count": 5,
   "id": "8b902996-63c8-4d2d-b566-aed29af37909",
   "metadata": {},
   "outputs": [
    {
     "name": "stdout",
     "output_type": "stream",
     "text": [
      "Index(['text_cleaning;sentimen'], dtype='object')\n"
     ]
    }
   ],
   "source": [
    "print(fulldf.columns)\n"
   ]
  },
  {
   "cell_type": "code",
   "execution_count": 6,
   "id": "0f6c1adc-f33f-425c-9c8b-bace50cda7fd",
   "metadata": {},
   "outputs": [],
   "source": [
    "import pandas as pd\n",
    "\n",
    "# Misalnya, baca data dari file CSV\n",
    "df = pd.read_csv('mobil_listrik.csv')\n"
   ]
  },
  {
   "cell_type": "code",
   "execution_count": 7,
   "id": "730b4d19-76f8-4b89-baf7-b7c7d711a46f",
   "metadata": {},
   "outputs": [
    {
     "ename": "KeyError",
     "evalue": "'sentimen'",
     "output_type": "error",
     "traceback": [
      "\u001b[1;31m---------------------------------------------------------------------------\u001b[0m",
      "\u001b[1;31mKeyError\u001b[0m                                  Traceback (most recent call last)",
      "File \u001b[1;32m~\\AppData\\Local\\Programs\\Python\\Python311\\Lib\\site-packages\\pandas\\core\\indexes\\base.py:3790\u001b[0m, in \u001b[0;36mIndex.get_loc\u001b[1;34m(self, key)\u001b[0m\n\u001b[0;32m   3789\u001b[0m \u001b[38;5;28;01mtry\u001b[39;00m:\n\u001b[1;32m-> 3790\u001b[0m     \u001b[38;5;28;01mreturn\u001b[39;00m \u001b[38;5;28;43mself\u001b[39;49m\u001b[38;5;241;43m.\u001b[39;49m\u001b[43m_engine\u001b[49m\u001b[38;5;241;43m.\u001b[39;49m\u001b[43mget_loc\u001b[49m\u001b[43m(\u001b[49m\u001b[43mcasted_key\u001b[49m\u001b[43m)\u001b[49m\n\u001b[0;32m   3791\u001b[0m \u001b[38;5;28;01mexcept\u001b[39;00m \u001b[38;5;167;01mKeyError\u001b[39;00m \u001b[38;5;28;01mas\u001b[39;00m err:\n",
      "File \u001b[1;32mindex.pyx:152\u001b[0m, in \u001b[0;36mpandas._libs.index.IndexEngine.get_loc\u001b[1;34m()\u001b[0m\n",
      "File \u001b[1;32mindex.pyx:181\u001b[0m, in \u001b[0;36mpandas._libs.index.IndexEngine.get_loc\u001b[1;34m()\u001b[0m\n",
      "File \u001b[1;32mpandas\\_libs\\hashtable_class_helper.pxi:7080\u001b[0m, in \u001b[0;36mpandas._libs.hashtable.PyObjectHashTable.get_item\u001b[1;34m()\u001b[0m\n",
      "File \u001b[1;32mpandas\\_libs\\hashtable_class_helper.pxi:7088\u001b[0m, in \u001b[0;36mpandas._libs.hashtable.PyObjectHashTable.get_item\u001b[1;34m()\u001b[0m\n",
      "\u001b[1;31mKeyError\u001b[0m: 'sentimen'",
      "\nThe above exception was the direct cause of the following exception:\n",
      "\u001b[1;31mKeyError\u001b[0m                                  Traceback (most recent call last)",
      "Cell \u001b[1;32mIn[7], line 4\u001b[0m\n\u001b[0;32m      1\u001b[0m \u001b[38;5;28;01mimport\u001b[39;00m \u001b[38;5;21;01mmatplotlib\u001b[39;00m\u001b[38;5;21;01m.\u001b[39;00m\u001b[38;5;21;01mpyplot\u001b[39;00m \u001b[38;5;28;01mas\u001b[39;00m \u001b[38;5;21;01mplt\u001b[39;00m\n\u001b[0;32m      2\u001b[0m \u001b[38;5;28;01mimport\u001b[39;00m \u001b[38;5;21;01mseaborn\u001b[39;00m \u001b[38;5;28;01mas\u001b[39;00m \u001b[38;5;21;01msns\u001b[39;00m\n\u001b[1;32m----> 4\u001b[0m sentimen_counts \u001b[38;5;241m=\u001b[39m \u001b[43mdf\u001b[49m\u001b[43m[\u001b[49m\u001b[38;5;124;43m\"\u001b[39;49m\u001b[38;5;124;43msentimen\u001b[39;49m\u001b[38;5;124;43m\"\u001b[39;49m\u001b[43m]\u001b[49m\u001b[38;5;241m.\u001b[39mvalue_counts()\n\u001b[0;32m      6\u001b[0m plt\u001b[38;5;241m.\u001b[39mfigure(figsize\u001b[38;5;241m=\u001b[39m(\u001b[38;5;241m2\u001b[39m, \u001b[38;5;241m4\u001b[39m))\n\u001b[0;32m      7\u001b[0m sns\u001b[38;5;241m.\u001b[39mset(style\u001b[38;5;241m=\u001b[39m\u001b[38;5;124m\"\u001b[39m\u001b[38;5;124mdarkgrid\u001b[39m\u001b[38;5;124m\"\u001b[39m)\n",
      "File \u001b[1;32m~\\AppData\\Local\\Programs\\Python\\Python311\\Lib\\site-packages\\pandas\\core\\frame.py:3896\u001b[0m, in \u001b[0;36mDataFrame.__getitem__\u001b[1;34m(self, key)\u001b[0m\n\u001b[0;32m   3894\u001b[0m \u001b[38;5;28;01mif\u001b[39;00m \u001b[38;5;28mself\u001b[39m\u001b[38;5;241m.\u001b[39mcolumns\u001b[38;5;241m.\u001b[39mnlevels \u001b[38;5;241m>\u001b[39m \u001b[38;5;241m1\u001b[39m:\n\u001b[0;32m   3895\u001b[0m     \u001b[38;5;28;01mreturn\u001b[39;00m \u001b[38;5;28mself\u001b[39m\u001b[38;5;241m.\u001b[39m_getitem_multilevel(key)\n\u001b[1;32m-> 3896\u001b[0m indexer \u001b[38;5;241m=\u001b[39m \u001b[38;5;28;43mself\u001b[39;49m\u001b[38;5;241;43m.\u001b[39;49m\u001b[43mcolumns\u001b[49m\u001b[38;5;241;43m.\u001b[39;49m\u001b[43mget_loc\u001b[49m\u001b[43m(\u001b[49m\u001b[43mkey\u001b[49m\u001b[43m)\u001b[49m\n\u001b[0;32m   3897\u001b[0m \u001b[38;5;28;01mif\u001b[39;00m is_integer(indexer):\n\u001b[0;32m   3898\u001b[0m     indexer \u001b[38;5;241m=\u001b[39m [indexer]\n",
      "File \u001b[1;32m~\\AppData\\Local\\Programs\\Python\\Python311\\Lib\\site-packages\\pandas\\core\\indexes\\base.py:3797\u001b[0m, in \u001b[0;36mIndex.get_loc\u001b[1;34m(self, key)\u001b[0m\n\u001b[0;32m   3792\u001b[0m     \u001b[38;5;28;01mif\u001b[39;00m \u001b[38;5;28misinstance\u001b[39m(casted_key, \u001b[38;5;28mslice\u001b[39m) \u001b[38;5;129;01mor\u001b[39;00m (\n\u001b[0;32m   3793\u001b[0m         \u001b[38;5;28misinstance\u001b[39m(casted_key, abc\u001b[38;5;241m.\u001b[39mIterable)\n\u001b[0;32m   3794\u001b[0m         \u001b[38;5;129;01mand\u001b[39;00m \u001b[38;5;28many\u001b[39m(\u001b[38;5;28misinstance\u001b[39m(x, \u001b[38;5;28mslice\u001b[39m) \u001b[38;5;28;01mfor\u001b[39;00m x \u001b[38;5;129;01min\u001b[39;00m casted_key)\n\u001b[0;32m   3795\u001b[0m     ):\n\u001b[0;32m   3796\u001b[0m         \u001b[38;5;28;01mraise\u001b[39;00m InvalidIndexError(key)\n\u001b[1;32m-> 3797\u001b[0m     \u001b[38;5;28;01mraise\u001b[39;00m \u001b[38;5;167;01mKeyError\u001b[39;00m(key) \u001b[38;5;28;01mfrom\u001b[39;00m \u001b[38;5;21;01merr\u001b[39;00m\n\u001b[0;32m   3798\u001b[0m \u001b[38;5;28;01mexcept\u001b[39;00m \u001b[38;5;167;01mTypeError\u001b[39;00m:\n\u001b[0;32m   3799\u001b[0m     \u001b[38;5;66;03m# If we have a listlike key, _check_indexing_error will raise\u001b[39;00m\n\u001b[0;32m   3800\u001b[0m     \u001b[38;5;66;03m#  InvalidIndexError. Otherwise we fall through and re-raise\u001b[39;00m\n\u001b[0;32m   3801\u001b[0m     \u001b[38;5;66;03m#  the TypeError.\u001b[39;00m\n\u001b[0;32m   3802\u001b[0m     \u001b[38;5;28mself\u001b[39m\u001b[38;5;241m.\u001b[39m_check_indexing_error(key)\n",
      "\u001b[1;31mKeyError\u001b[0m: 'sentimen'"
     ]
    }
   ],
   "source": [
    "import matplotlib.pyplot as plt\n",
    "import seaborn as sns\n",
    "\n",
    "sentimen_counts = df[\"sentimen\"].value_counts()\n",
    "\n",
    "plt.figure(figsize=(2, 4))\n",
    "sns.set(style=\"darkgrid\")\n",
    "ax = sns.countplot(x=\"sentimen\", data=df, palette=\"Set2\")\n",
    "plt.title(\"Sebaran Kategori Sentimen\")\n",
    "plt.xlabel(\"Sentimen\")\n",
    "plt.ylabel(\"Jumlah\")\n",
    "\n",
    "plt.show()"
   ]
  },
  {
   "cell_type": "code",
   "execution_count": null,
   "id": "a2bc300b-dcc3-4e15-a6fc-003b05b0dbab",
   "metadata": {},
   "outputs": [],
   "source": [
    "pip install plotly"
   ]
  },
  {
   "cell_type": "code",
   "execution_count": null,
   "id": "51412ea7-18f2-4b50-a432-7b7d4d19544d",
   "metadata": {},
   "outputs": [],
   "source": [
    "import plotly.graph_objects as go\n",
    "\n",
    "# Menghitung jumlah sentimen\n",
    "sentimen_counts = df[\"sentimen\"].value_counts()\n",
    "\n",
    "# Membuat trace dan mengatur warna untuk setiap kategori sentimen\n",
    "colors = ['rgb(65, 105, 225)', 'rgb(50, 205, 50)', 'rgb(220, 20, 60)']\n",
    "data = []\n",
    "for i in range(len(sentimen_counts)):\n",
    "    trace = go.Bar(\n",
    "        x=[sentimen_counts.index[i]],\n",
    "        y=[sentimen_counts.values[i]],\n",
    "        marker=dict(color=colors[i]),\n",
    "    )\n",
    "    data.append(trace)\n",
    "\n",
    "# Membuat layout\n",
    "layout = go.Layout(\n",
    "    title=\"Sebaran Kategori Sentimen\",\n",
    "    xaxis=dict(title=\"Sentimen\"),\n",
    "    yaxis=dict(title=\"Jumlah\"),\n",
    ")\n",
    "\n",
    "# Membuat figure\n",
    "fig = go.Figure(data=data, layout=layout)\n",
    "\n",
    "# Menampilkan grafik\n",
    "fig.show()\n"
   ]
  },
  {
   "cell_type": "code",
   "execution_count": null,
   "id": "1fe4df97-93ea-4d1c-9820-6088343d21ba",
   "metadata": {},
   "outputs": [],
   "source": [
    "# Menghitung jumlah sentimen positif, negatif, dan netral\n",
    "positif_count = df[df['sentimen'] == 'positif'].shape[0]\n",
    "negatif_count = df[df['sentimen'] == 'negatif'].shape[0]\n",
    "netral_count = df[df['sentimen'] == 'netral'].shape[0]\n",
    "\n",
    "# Menyusun data sentimen dan label\n",
    "sentimen = [positif_count, negatif_count, netral_count]\n",
    "labels = ['Positif', 'Negatif', 'Netral']\n",
    "\n",
    "# Menentukan warna untuk setiap sektor\n",
    "colors = ['#55a868', '#c44e52', '#4c72b0']\n",
    "\n",
    "# Membuat Pie Chart\n",
    "plt.pie(sentimen, labels=labels, colors=colors, autopct='%1.1f%%', startangle=90)\n",
    "\n",
    "# Menambahkan judul\n",
    "plt.title('Persentase Sentimen')\n",
    "\n",
    "# Menampilkan Pie Chart\n",
    "plt.axis('equal')\n",
    "plt.show()"
   ]
  },
  {
   "cell_type": "code",
   "execution_count": null,
   "id": "cdcc7b42-eb37-4ec3-b5d0-272a411b1b59",
   "metadata": {},
   "outputs": [],
   "source": [
    "COL = 'text_cleaning'"
   ]
  },
  {
   "cell_type": "code",
   "execution_count": null,
   "id": "726f8ef3-2528-474b-9fe5-45c3e3f95546",
   "metadata": {},
   "outputs": [],
   "source": [
    "print(COL)\n",
    "df.shape"
   ]
  },
  {
   "cell_type": "code",
   "execution_count": null,
   "id": "f1068747-a0fa-4470-a92b-615582a67a69",
   "metadata": {},
   "outputs": [],
   "source": [
    "df.head()"
   ]
  },
  {
   "cell_type": "code",
   "execution_count": null,
   "id": "11acafed-9dd9-4c31-9c3c-02112d4aeb1b",
   "metadata": {},
   "outputs": [],
   "source": [
    "# Membuat mapping untuk encoding\n",
    "sentimen_mapping = {\"negatif\": -1, \"netral\": 0, \"positif\": 1}\n",
    "\n",
    "# Melakukan encoding pada kolom \"sentimen\"\n",
    "df[\"sentimen_encoded\"] = df[\"sentimen\"].map(sentimen_mapping)\n"
   ]
  },
  {
   "cell_type": "code",
   "execution_count": null,
   "id": "e7af5e6a-749f-4092-aae3-cec79c4ee764",
   "metadata": {},
   "outputs": [],
   "source": [
    "df.head ()"
   ]
  },
  {
   "cell_type": "code",
   "execution_count": null,
   "id": "afbe817f-9358-4c95-ace9-053b03910695",
   "metadata": {},
   "outputs": [],
   "source": [
    "import pandas as pd\n",
    "import re\n",
    "import string\n",
    "\n",
    "# Load data dari CSV ke dalam DataFrame\n",
    "df = pd.read_csv('fix_mobil.csv')  # Ganti 'nama_file.csv' dengan nama file CSV yang sesuai\n",
    "\n",
    "# Mengganti nilai NaN dengan string kosong\n",
    "df['text_cleaning'] = df['text_cleaning'].fillna('')\n",
    "\n",
    "def preprocess_text(text):\n",
    "    # Pastikan nilai text adalah string\n",
    "    if isinstance(text, str):\n",
    "        # Tahap-1: konversi ke karakter huruf kecil\n",
    "        text = text.lower()\n",
    "        # Tahap-2: Non-ascii\n",
    "        text = re.sub(r'[^\\x00-\\x7F]+', ' ', text)\n",
    "        # Tahap-3: URLs\n",
    "        text = re.sub(r'http[s]?\\:\\/\\/.[a-zA-Z0-9\\.\\/\\_?=%&#\\-\\+!]+', ' ', text)\n",
    "        text = re.sub(r'pic.twitter.com?.[a-zA-Z0-9\\.\\/\\_?=%&#\\-\\+!]+', ' ', text)\n",
    "        # Tahap-4: mentions\n",
    "        text = re.sub(r'\\@([\\w]+)', ' ', text)\n",
    "        # Tahap-5: konversi tagar ke kalimat (pemisahan string berdasarkan huruf kapital)\n",
    "        text = re.sub(r'((?<=[a-z])[A-Z]|[A-Z](?=[a-z]))', ' \\\\1', text)\n",
    "        # Tahap-6: simbol\n",
    "        text = re.sub(r'[!$%^&*@#()_+|~=`{}\\[\\]%\\-:\";\\'<>?,.\\/]', ' ', text)\n",
    "        # Tahap-7: angka\n",
    "        text = re.sub(r'[0-9]+', '', text)\n",
    "        # Tahap-8: koreksi duplikasi tiga karakter beruntun atau lebih\n",
    "        text = re.sub(r'([a-zA-Z])\\1\\1', '\\\\1', text)\n",
    "        # Tahap-9: spasi ganda (atau lebih) menjadi satu spasi\n",
    "        text = re.sub(' +', ' ', text)\n",
    "        # Tahap-10: spasi di awal dan akhir kalimat\n",
    "        text = re.sub(r'^[ ]|[ ]$', '', text)\n",
    "        # Tahap-11: menghilangkan garis miring\n",
    "        text = text.replace('/', ' ')\n",
    "        # Tahap-12: menghilangkan karakter backslash\n",
    "        text = text.replace('\\\\', ' ')\n",
    "\n",
    "    return text\n",
    "\n",
    "# Mengaplikasikan pra-pemrosesan teks pada kolom \"text_cleaning\" dan menyimpan hasilnya dalam kolom \"text_cleaning_processed\"\n",
    "df['text_cleaning_processed'] = df['text_cleaning'].apply(preprocess_text)\n",
    "\n",
    "# Removal of Punctuations\n",
    "col_from = \"text_cleaning_processed\"\n",
    "col_save = \"text_wo_punct\"\n",
    "PUNCT_TO_REMOVE = string.punctuation\n",
    "def remove_punctuation(text):\n",
    "    \"\"\"custom function to remove the punctuation\"\"\"\n",
    "    # replace punc with space\n",
    "    text = text.replace('\\n', ' ')\n",
    "    return text.translate(str.maketrans(string.punctuation, ' '*len(string.punctuation)))\n",
    "\n",
    "df[col_save] = df[col_from].apply(lambda text: remove_punctuation(text))\n",
    "COL = col_save\n",
    "\n",
    "# Cetak lima baris pertama dari DataFrame\n",
    "print(df.head())\n"
   ]
  },
  {
   "cell_type": "code",
   "execution_count": null,
   "id": "6b3e767b-719c-4077-a4fa-5f73ae8bee59",
   "metadata": {},
   "outputs": [],
   "source": [
    "from sklearn.feature_extraction.text import TfidfVectorizer\n",
    "\n",
    "tfidf = TfidfVectorizer(min_df=3, max_df=0.9, ngram_range=(1, 2))\n",
    "features = tfidf.fit_transform(df[COL].values)\n",
    "df2 = pd.DataFrame(features.todense(), columns=tfidf.get_feature_names_out())"
   ]
  },
  {
   "cell_type": "code",
   "execution_count": null,
   "id": "e20bc936-824c-4f6f-81d7-876168941840",
   "metadata": {},
   "outputs": [],
   "source": [
    "df2.head()"
   ]
  },
  {
   "cell_type": "code",
   "execution_count": null,
   "id": "463b76c2-106a-4216-b708-ea9647995d23",
   "metadata": {},
   "outputs": [],
   "source": [
    "print(df2.shape)"
   ]
  },
  {
   "cell_type": "code",
   "execution_count": null,
   "id": "7554faee-339f-4da1-960d-d6b3672f5539",
   "metadata": {},
   "outputs": [],
   "source": [
    "# Membuat mapping untuk encoding\n",
    "sentimen_mapping = {\"negatif\": -1, \"netral\": 0, \"positif\": 1}\n",
    "\n",
    "# Melakukan encoding pada kolom \"sentimen\"\n",
    "df[\"sentimen_encoded\"] = df[\"sentimen\"].map(sentimen_mapping)\n"
   ]
  },
  {
   "cell_type": "code",
   "execution_count": null,
   "id": "b1a356b0-c1dd-445b-8571-d9197d88eb10",
   "metadata": {},
   "outputs": [],
   "source": [
    "df.head ()"
   ]
  },
  {
   "cell_type": "code",
   "execution_count": null,
   "id": "c2f04cd7-8429-4c59-ad84-ac25ddfa84ad",
   "metadata": {},
   "outputs": [],
   "source": [
    "df2['y'] = df['sentimen_encoded']"
   ]
  },
  {
   "cell_type": "code",
   "execution_count": null,
   "id": "65aed178-6d82-4607-8841-cf1b02a135b1",
   "metadata": {},
   "outputs": [],
   "source": [
    "from sklearn.model_selection import train_test_split, cross_val_score\n",
    "from sklearn import tree, metrics\n",
    "from sklearn.metrics import classification_report"
   ]
  },
  {
   "cell_type": "code",
   "execution_count": null,
   "id": "ac8fc11f-d608-4768-9df3-80c3a36d5ef7",
   "metadata": {},
   "outputs": [],
   "source": [
    "X_train, X_test, y_train, y_test = train_test_split(df2.drop(['y'], axis=1), df2[['y']], test_size=0.25, random_state=555)"
   ]
  },
  {
   "cell_type": "code",
   "execution_count": null,
   "id": "17d331fe-e208-4c6e-af9d-ca0874fb1538",
   "metadata": {},
   "outputs": [],
   "source": [
    "from sklearn.naive_bayes import MultinomialNB\n",
    "from sklearn import metrics\n",
    "\n",
    "def naive_bayes_multi(X_train, y_train, X_test, y_test):\n",
    "    # Inisialisasi model Naive Bayes Multi\n",
    "    mnb = MultinomialNB()\n",
    "\n",
    "    # Melatih model\n",
    "    mnb.fit(X_train, y_train)\n",
    "\n",
    "    # Melakukan prediksi\n",
    "    y_pred = mnb.predict(X_test)\n",
    "\n",
    "    # Menampilkan akurasi model\n",
    "    accuracy = mnb.score(X_test, y_test)\n",
    "    print(\"Accuracy:\", accuracy)\n",
    "\n",
    "    # Menampilkan laporan klasifikasi\n",
    "    classification_report = metrics.classification_report(y_test, y_pred, digits=3)\n",
    "    print(\"Classification Report:\\n\", classification_report)\n",
    "\n",
    "# Panggil fungsi dengan data X_train, y_train, X_test, y_test\n",
    "naive_bayes_multi(X_train, y_train, X_test, y_test)\n"
   ]
  },
  {
   "cell_type": "code",
   "execution_count": null,
   "id": "4e3f10f9-7d39-49ee-bf92-7c180a4dac88",
   "metadata": {},
   "outputs": [],
   "source": [
    "from sklearn.tree import DecisionTreeClassifier\n",
    "from sklearn import metrics\n",
    "\n",
    "def decision_tree(X_train, y_train, X_test, y_test):\n",
    "    # Inisialisasi model Decision Tree\n",
    "    clf = DecisionTreeClassifier(random_state=555)\n",
    "\n",
    "    # Melatih model\n",
    "    clf.fit(X_train, y_train)\n",
    "\n",
    "    # Melakukan prediksi\n",
    "    y_pred = clf.predict(X_test)\n",
    "\n",
    "    # Menampilkan akurasi model\n",
    "    accuracy = clf.score(X_test, y_test)\n",
    "    print(\"Accuracy:\", accuracy)\n",
    "\n",
    "    # Menampilkan laporan klasifikasi\n",
    "    classification_report = metrics.classification_report(y_test, y_pred, digits=3)\n",
    "    print(\"Classification Report:\\n\", classification_report)\n",
    "\n",
    "# Panggil fungsi dengan data X_train, y_train, X_test, y_test\n",
    "decision_tree(X_train, y_train, X_test, y_test)\n"
   ]
  },
  {
   "cell_type": "code",
   "execution_count": null,
   "id": "fda0d6c9-aa81-4991-944e-678812400bed",
   "metadata": {},
   "outputs": [],
   "source": [
    "from sklearn.linear_model import LogisticRegression\n",
    "\n",
    "rgs = LogisticRegression(max_iter=600, \n",
    "                         C=1.65,\n",
    "                         solver='lbfgs',\n",
    "                         class_weight='balanced',\n",
    "                         n_jobs=-1)\n",
    "\n",
    "rgs.fit(X_train, y_train.values.ravel())\n",
    "y_pred = rgs.predict(X_test)\n",
    "print(rgs.score(X_test, y_test))\n",
    "print(metrics.classification_report(y_test, y_pred, digits=3))"
   ]
  },
  {
   "cell_type": "code",
   "execution_count": null,
   "id": "6d514bd6-55ec-43af-971a-f2302b0383a7",
   "metadata": {},
   "outputs": [],
   "source": [
    "from sklearn import svm\n",
    "\n",
    "clf = svm.SVC(max_iter=-1, \n",
    "            C=1000,\n",
    "#             gamma=0.01,\n",
    "            kernel='rbf')\n",
    "# clf = svm.NuSVC(kernel='poly')\n",
    "# acc = cross_val_score(clf, X, Y, cv=4)\n",
    "clf.fit(X_train, y_train.values.ravel())\n",
    "y_pred = clf.predict(X_test)\n",
    "print(clf.score(X_test, y_test))\n",
    "print(metrics.classification_report(y_test, y_pred, digits=3))"
   ]
  },
  {
   "cell_type": "code",
   "execution_count": null,
   "id": "f1f85c64-1ef1-42fc-a3e7-b663aaafe027",
   "metadata": {},
   "outputs": [],
   "source": [
    "from sklearn.ensemble import RandomForestClassifier\n",
    "from sklearn.model_selection import cross_val_score\n",
    "from sklearn import metrics\n",
    "\n",
    "# Membuat model Random Forest\n",
    "clf = RandomForestClassifier(n_estimators=500, random_state=42)\n",
    "\n",
    "# Melatih model pada data pelatihan\n",
    "clf.fit(X_train, y_train.values.ravel())\n",
    "\n",
    "# Melakukan prediksi pada data pengujian\n",
    "y_pred = clf.predict(X_test)\n",
    "\n",
    "# Mencetak akurasi model\n",
    "print(clf.score(X_test, y_test))\n",
    "\n",
    "# Mencetak laporan klasifikasi\n",
    "print(metrics.classification_report(y_test, y_pred, digits=3))\n"
   ]
  },
  {
   "cell_type": "code",
   "execution_count": null,
   "id": "c7dc0bce-30c9-4457-8a14-08ce3bc803d3",
   "metadata": {},
   "outputs": [],
   "source": [
    "from sklearn.ensemble import RandomForestClassifier\n",
    "from sklearn.model_selection import cross_val_score\n",
    "\n",
    "# Jumlah estimator yang akan diuji\n",
    "estimator_values = [10, 50, 100, 500, 1000, 1500]\n",
    "\n",
    "for n_estimators in estimator_values:\n",
    "    clf = RandomForestClassifier(n_estimators=n_estimators, random_state=42)\n",
    "    scores = cross_val_score(clf, X_train, y_train.values.ravel(), cv=5)\n",
    "    print(f\"Jumlah Estimator = {n_estimators}, Akurasi Rata-rata = {scores.mean()}\")\n"
   ]
  },
  {
   "cell_type": "code",
   "execution_count": null,
   "id": "6f4c40dc-a649-441b-9874-1222f3246595",
   "metadata": {},
   "outputs": [],
   "source": [
    "tfidf = TfidfVectorizer(min_df=3, max_df=0.5, ngram_range=(1, 1))\n",
    "features = tfidf.fit_transform(df[COL].values)\n",
    "dfuni = pd.DataFrame(features.todense(), columns=tfidf.get_feature_names_out())"
   ]
  },
  {
   "cell_type": "code",
   "execution_count": null,
   "id": "d63dc4c8-1266-4352-88c1-47d36e724468",
   "metadata": {},
   "outputs": [],
   "source": [
    "print(dfuni.shape)"
   ]
  },
  {
   "cell_type": "code",
   "execution_count": null,
   "id": "5e7e37b1-ad0a-44e2-acfe-609af28c9eb8",
   "metadata": {},
   "outputs": [],
   "source": [
    "dfuni.head()"
   ]
  },
  {
   "cell_type": "code",
   "execution_count": null,
   "id": "29cf8209-9352-4d49-b887-4c43140e0956",
   "metadata": {},
   "outputs": [],
   "source": [
    "dfuni['y'] = df['sentimen_encoded']"
   ]
  },
  {
   "cell_type": "code",
   "execution_count": null,
   "id": "83b191ee-d1ed-41b8-bbc4-99936bedacad",
   "metadata": {},
   "outputs": [],
   "source": [
    "X_train, X_test, y_train, y_test = train_test_split(dfuni.drop(['y'], axis=1), dfuni[['y']], test_size=0.25, random_state=555)"
   ]
  },
  {
   "cell_type": "code",
   "execution_count": null,
   "id": "bc7291e4-dff7-4b97-a232-5c234ce215b8",
   "metadata": {},
   "outputs": [],
   "source": [
    "dfunitrain = X_train.join(y_train)\n",
    "dfunitest = X_test.join(y_test)"
   ]
  },
  {
   "cell_type": "code",
   "execution_count": null,
   "id": "ddbab6a4-f7e5-43a0-a9f2-140de25ef917",
   "metadata": {},
   "outputs": [],
   "source": [
    "X_unitrain = dfunitrain.drop(['y'], axis=1)\n",
    "y_unitrain = dfunitrain['y']\n",
    "X_unitest = dfunitest.drop(['y'], axis=1)\n",
    "y_unitest = dfunitest['y']"
   ]
  },
  {
   "cell_type": "code",
   "execution_count": null,
   "id": "7e3e7805-c4a2-41a0-a464-419c263adcac",
   "metadata": {},
   "outputs": [],
   "source": [
    "rgs = LogisticRegression(max_iter=600, \n",
    "                         C=1.65,\n",
    "                         solver='lbfgs',\n",
    "                         class_weight='balanced',\n",
    "                         n_jobs=-1)\n",
    "\n",
    "rgs.fit(X_unitrain, y_unitrain.values.ravel())\n",
    "y_unipred = rgs.predict(X_unitest)\n",
    "print('Accuracy:', rgs.score(X_unitest, y_unitest))\n",
    "print(metrics.classification_report(y_unitest, y_unipred, digits=3))"
   ]
  },
  {
   "cell_type": "code",
   "execution_count": null,
   "id": "66846b09-5c62-4c4d-b4ef-a7d785b74930",
   "metadata": {},
   "outputs": [],
   "source": [
    "clf = svm.SVC(max_iter=-1, \n",
    "            C=1000,\n",
    "#             gamma=0.01,\n",
    "            kernel='rbf')\n",
    "# clf = svm.NuSVC(kernel='poly')\n",
    "clf.fit(X_unitrain, y_unitrain.values.ravel())\n",
    "y_unipred = clf.predict(X_unitest)\n",
    "print(clf.score(X_unitest, y_unitest))\n",
    "print(metrics.classification_report(y_unitest, y_unipred, digits=3))"
   ]
  },
  {
   "cell_type": "code",
   "execution_count": null,
   "id": "36fc18b9-81b3-41ee-85e5-93397fe0a09a",
   "metadata": {},
   "outputs": [],
   "source": [
    "from sklearn.naive_bayes import MultinomialNB\n",
    "from sklearn import metrics\n",
    "\n",
    "def naive_bayes_multi(X_train, y_train, X_test, y_test):\n",
    "    # Inisialisasi model Naive Bayes Multi\n",
    "    mnb = MultinomialNB()\n",
    "\n",
    "    # Melatih model\n",
    "    mnb.fit(X_train, y_train)\n",
    "\n",
    "    # Melakukan prediksi\n",
    "    y_pred = mnb.predict(X_test)\n",
    "\n",
    "    # Menampilkan akurasi model\n",
    "    accuracy = mnb.score(X_test, y_test)\n",
    "    print(\"Accuracy:\", accuracy)\n",
    "\n",
    "    # Menampilkan laporan klasifikasi\n",
    "    classification_report = metrics.classification_report(y_test, y_pred, digits=3)\n",
    "    print(\"Classification Report:\\n\", classification_report)\n",
    "\n",
    "# Panggil fungsi dengan data X_train, y_train, X_test, y_test\n",
    "naive_bayes_multi(X_train, y_train, X_test, y_test)\n"
   ]
  },
  {
   "cell_type": "code",
   "execution_count": null,
   "id": "5173d005-9765-4805-8b39-3d9b5ea48c3e",
   "metadata": {},
   "outputs": [],
   "source": [
    "from sklearn.tree import DecisionTreeClassifier\n",
    "from sklearn import metrics\n",
    "\n",
    "def decision_tree(X_train, y_train, X_test, y_test):\n",
    "    # Inisialisasi model Decision Tree\n",
    "    clf = DecisionTreeClassifier(random_state=555)\n",
    "\n",
    "    # Melatih model\n",
    "    clf.fit(X_train, y_train)\n",
    "\n",
    "    # Melakukan prediksi\n",
    "    y_pred = clf.predict(X_test)\n",
    "\n",
    "    # Menampilkan akurasi model\n",
    "    accuracy = clf.score(X_test, y_test)\n",
    "    print(\"Accuracy:\", accuracy)\n",
    "\n",
    "    # Menampilkan laporan klasifikasi\n",
    "    classification_report = metrics.classification_report(y_test, y_pred, digits=3)\n",
    "    print(\"Classification Report:\\n\", classification_report)\n",
    "\n",
    "# Panggil fungsi dengan data X_train, y_train, X_test, y_test\n",
    "decision_tree(X_train, y_train, X_test, y_test)\n"
   ]
  },
  {
   "cell_type": "code",
   "execution_count": null,
   "id": "ddb7b134-5a64-40ec-b2d4-ec8b80205dee",
   "metadata": {},
   "outputs": [],
   "source": [
    "from sklearn.ensemble import RandomForestClassifier\n",
    "from sklearn.model_selection import cross_val_score\n",
    "from sklearn import metrics\n",
    "\n",
    "# Membuat model Random Forest\n",
    "clf = RandomForestClassifier(n_estimators=500, random_state=42)\n",
    "\n",
    "# Melatih model pada data pelatihan\n",
    "clf.fit(X_train, y_train.values.ravel())\n",
    "\n",
    "# Melakukan prediksi pada data pengujian\n",
    "y_pred = clf.predict(X_test)\n",
    "\n",
    "# Mencetak akurasi model\n",
    "print(clf.score(X_test, y_test))\n",
    "\n",
    "# Mencetak laporan klasifikasi\n",
    "print(metrics.classification_report(y_test, y_pred, digits=3))\n"
   ]
  }
 ],
 "metadata": {
  "kernelspec": {
   "display_name": "Python 3 (ipykernel)",
   "language": "python",
   "name": "python3"
  },
  "language_info": {
   "codemirror_mode": {
    "name": "ipython",
    "version": 3
   },
   "file_extension": ".py",
   "mimetype": "text/x-python",
   "name": "python",
   "nbconvert_exporter": "python",
   "pygments_lexer": "ipython3",
   "version": "3.11.4"
  }
 },
 "nbformat": 4,
 "nbformat_minor": 5
}
